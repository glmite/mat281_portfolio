{
 "cells": [
  {
   "cell_type": "markdown",
   "metadata": {},
   "source": [
    "# Laboratorio 3"
   ]
  },
  {
   "cell_type": "markdown",
   "metadata": {},
   "source": [
    "En este laboratorio nuevamente utilizaremos los datos de COVID-19 disponibilizados por el Ministerio de Ciencias, Tecnología, Conocimiento e Innovación de Chile ([info](https://github.com/MinCiencia/Datos-COVID19/tree/master/output/producto1))."
   ]
  },
  {
   "cell_type": "code",
   "execution_count": null,
   "metadata": {},
   "outputs": [],
   "source": [
    "import pandas as pd\n",
    "\n",
    "covid = pd.read_csv(\"https://raw.githubusercontent.com/MinCiencia/Datos-COVID19/master/output/producto1/Covid-19_std.csv\")\n",
    "covid.head()"
   ]
  },
  {
   "cell_type": "markdown",
   "metadata": {},
   "source": [
    "## Ejercicio 1\n",
    "\n",
    "(1 pto)\n",
    "\n",
    "¿Cuál es la región que tiene menos registros (filas)?"
   ]
  },
  {
   "cell_type": "code",
   "execution_count": null,
   "metadata": {},
   "outputs": [],
   "source": [
    "print(f\"La región de {covid.Region.value_counts().idxmin()}\")"
   ]
  },
  {
   "cell_type": "markdown",
   "metadata": {},
   "source": [
    "__Respuesta:__ La región de Arica y Parinacota"
   ]
  },
  {
   "cell_type": "markdown",
   "metadata": {},
   "source": [
    "## Ejercicio 2\n",
    "\n",
    "(2 puntos)\n",
    "\n",
    "1. Define la serie `casos` tal que:\n",
    "    * Solo sean los registros de la región Valparaíso.\n",
    "    * Los _index_ deben ser la _Fecha_ pero en formato `datetime`. Hint: `pd.to_datetime()`\n",
    "    * Los _values_ deben ser los _Casos confirmados_.\n",
    "2. Define la serie `casos_not_null` filtrando los calores `NaN` de la serie `casos`.\n",
    "3. Obtén el mínimo, máximo y suma y promedio de la serie `casos_not_null`."
   ]
  },
  {
   "cell_type": "code",
   "execution_count": null,
   "metadata": {},
   "outputs": [],
   "source": [
    "covid_valpo = covid[covid[\"Region\"]==\"Valparaíso\" ]\n",
    "indices = pd.to_datetime(covid_valpo.Fecha,format='%Y-%m-%d')\n",
    "values = covid_valpo[\"Casos confirmados\"].values\n",
    "casos = pd.Series(data=values, index=indices)\n",
    "casos.head()"
   ]
  },
  {
   "cell_type": "code",
   "execution_count": null,
   "metadata": {},
   "outputs": [],
   "source": [
    "casos_not_null = casos.dropna()"
   ]
  },
  {
   "cell_type": "code",
   "execution_count": null,
   "metadata": {},
   "outputs": [],
   "source": [
    "casos_min = casos_not_null.min()\n",
    "casos_max =casos_not_null.max()\n",
    "casos_sum = casos_not_null.sum()\n",
    "casos_mean =casos_not_null.mean()"
   ]
  },
  {
   "cell_type": "code",
   "execution_count": null,
   "metadata": {},
   "outputs": [],
   "source": [
    "print(f\"Mínimo casos: {casos_min}\")\n",
    "print(f\"Máximo casos: {casos_max}\")\n",
    "print(f\"Suma de casos: {casos_sum}\")\n",
    "print(f\"Promedio de casos: {casos_mean}\")"
   ]
  },
  {
   "cell_type": "markdown",
   "metadata": {},
   "source": [
    "## Ejercicio 3"
   ]
  },
  {
   "cell_type": "markdown",
   "metadata": {},
   "source": [
    "* Define el dataframe  `covid_full` uniendo (`merge`) los dataframes `covid_total` y `covid_death` utilizando la _Fecha_ como _key_ y de tal forma de unir solo los registros que se encuentren en ambos conjuntos de datos. Hint: Escoger sabiamente entre _left_, _right_, _inner_ u _outer join_.\n",
    "* Filtra el dataframe `covid_full` tal que:\n",
    "    - Fechas con por lo menos 1000 casos totales.\n",
    "    - Fechas con por lo menos 100 casos nuevos con síntomas.\n",
    "    - Fechas con más de 20 muertes en el grupo etárea `70-79`.\n",
    "\n",
    "¿Cuál es la fecha máxima y mínima? ¿Cuántos registros quedan finalmente?"
   ]
  },
  {
   "cell_type": "code",
   "execution_count": null,
   "metadata": {},
   "outputs": [],
   "source": [
    "covid_total = pd.read_csv(\"https://raw.githubusercontent.com/MinCiencia/Datos-COVID19/master/output/producto5/TotalesNacionales_T.csv\", usecols=range(3))\n",
    "covid_total.head()"
   ]
  },
  {
   "cell_type": "code",
   "execution_count": null,
   "metadata": {},
   "outputs": [],
   "source": [
    "covid_death = pd.read_csv(\"https://raw.githubusercontent.com/MinCiencia/Datos-COVID19/master/output/producto10/FallecidosEtario_T.csv\").rename(columns={\"Grupo de edad\": \"Fecha\"})\n",
    "covid_death.head()"
   ]
  },
  {
   "cell_type": "code",
   "execution_count": null,
   "metadata": {},
   "outputs": [],
   "source": [
    "covid_full =  covid_total.merge(covid_death,how=\"inner\",on=\"Fecha\")\n",
    "covid_full.head()"
   ]
  },
  {
   "cell_type": "code",
   "execution_count": null,
   "metadata": {},
   "outputs": [],
   "source": [
    "mask1 = covid_full[\"Casos totales\"] >=1000\n",
    "mask2 = covid_full[\"Casos nuevos con sintomas\"] >=100\n",
    "mask3 =  covid_full[\"70-79\"] >20\n",
    "covid_full_filtered =  covid_full[mask1 & mask2 & mask3]\n",
    "covid_full_filtered"
   ]
  },
  {
   "cell_type": "code",
   "execution_count": null,
   "metadata": {},
   "outputs": [],
   "source": [
    "print(f\"Fecha mínima: {covid_full_filtered.Fecha.min() }\")\n",
    "print(f\"Fecha máxima: { covid_full_filtered.Fecha.max()}\")\n",
    "print(f\"Cantidad de registros finalmente: {covid_full_filtered.shape[0] }\")"
   ]
  },
  {
   "cell_type": "code",
   "execution_count": null,
   "metadata": {},
   "outputs": [],
   "source": []
  }
 ],
 "metadata": {
  "kernelspec": {
   "display_name": "Python 3",
   "language": "python",
   "name": "python3"
  },
  "language_info": {
   "codemirror_mode": {
    "name": "ipython",
    "version": 3
   },
   "file_extension": ".py",
   "mimetype": "text/x-python",
   "name": "python",
   "nbconvert_exporter": "python",
   "pygments_lexer": "ipython3",
   "version": "3.7.8"
  }
 },
 "nbformat": 4,
 "nbformat_minor": 4
}
