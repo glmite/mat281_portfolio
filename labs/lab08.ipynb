{
 "cells": [
  {
   "cell_type": "markdown",
   "metadata": {},
   "source": [
    "# Laboratorio 8"
   ]
  },
  {
   "cell_type": "code",
   "execution_count": null,
   "metadata": {},
   "outputs": [],
   "source": [
    "import pandas as pd\n",
    "import matplotlib.pyplot as plt\n",
    "\n",
    "from sklearn import datasets\n",
    "from sklearn.neighbors import KNeighborsClassifier\n",
    "from sklearn.linear_model import LogisticRegression\n",
    "from sklearn.metrics import plot_confusion_matrix \n",
    "\n",
    "%matplotlib inline"
   ]
  },
  {
   "cell_type": "code",
   "execution_count": null,
   "metadata": {},
   "outputs": [],
   "source": [
    "digits_X, digits_y = datasets.load_digits(return_X_y=True, as_frame=True)\n",
    "digits = pd.concat([digits_X, digits_y], axis=1)\n",
    "digits.head()"
   ]
  },
  {
   "cell_type": "markdown",
   "metadata": {},
   "source": [
    "## Ejercicio 1\n",
    "\n",
    "(1 pto.)\n",
    "\n",
    "Utilizando todos los datos, ajusta un modelo de regresión logística a los datos de dígitos. No agregues intercepto y define un máximo de iteraciones de 400.\n",
    "\n",
    "Obtén el _score_ y explica el tan buen resultado."
   ]
  },
  {
   "cell_type": "code",
   "execution_count": null,
   "metadata": {},
   "outputs": [],
   "source": [
    "logistic = LogisticRegression(fit_intercept=False,max_iter=400)\n",
    "logistic.fit(digits_X,digits_y)\n",
    "\n",
    "print(f\"El score del modelo de regresión logística es {logistic.score(digits_X,digits_y)}\")"
   ]
  },
  {
   "cell_type": "markdown",
   "metadata": {},
   "source": [
    "__Respuesta:__ \n",
    "* Los datos han sido pre-procesados de manera efectiva.\n",
    "* También hay una buena cantidad de prámetros, para que el modelo se ajuste a la \"forma\" de los datos, como hay 64 x 10 parámetros(por los 64 pixeles y 10 dígitos posibles) y 1797 dígitos dibujados.\n",
    "* Tenemos que como se pasa la data de entrenamiento, se esperarían buenos resultados de ajuste teniendo en cuenta que el modelo tiene sentido con la situación."
   ]
  },
  {
   "cell_type": "markdown",
   "metadata": {},
   "source": [
    "## Ejercicio 2\n",
    "\n",
    "(1 pto.)\n",
    "\n",
    "Utilizando todos los datos, ¿Cuál es la mejor elección del parámetro $k$ al ajustar un modelo kNN a los datos de dígitos? Utiliza valores $k=2, ..., 10$."
   ]
  },
  {
   "cell_type": "code",
   "execution_count": null,
   "metadata": {},
   "outputs": [],
   "source": [
    "for k in range(2,11):\n",
    "    neigh = KNeighborsClassifier(n_neighbors=k)\n",
    "    neigh.fit(digits_X, digits_y)\n",
    "    print(f\"El score del modelo de kNN con k={k} es {neigh.score(digits_X, digits_y)}\")"
   ]
  },
  {
   "cell_type": "markdown",
   "metadata": {},
   "source": [
    "__Respuesta:__ La mejor elección sería k=3 ya que produce el score más alto."
   ]
  },
  {
   "cell_type": "markdown",
   "metadata": {},
   "source": [
    "## Ejercicio 3\n",
    "\n",
    "(1 pto.)\n",
    "\n",
    "Grafica la matriz de confusión normalizada por predicción de ambos modelos (regresión logística y kNN con la mejor elección de $k$).\n",
    "\n",
    "¿Qué conclusión puedes sacar?\n",
    "\n",
    "Hint: Revisa el argumento `normalize` de la matriz de confusión."
   ]
  },
  {
   "cell_type": "code",
   "execution_count": null,
   "metadata": {},
   "outputs": [],
   "source": [
    "plot_confusion_matrix(logistic,digits_X,digits_y,normalize=\"pred\");"
   ]
  },
  {
   "cell_type": "code",
   "execution_count": null,
   "metadata": {},
   "outputs": [],
   "source": [
    "best_knn = KNeighborsClassifier(n_neighbors=3)\n",
    "best_knn.fit(digits_X, digits_y)\n",
    "plot_confusion_matrix(best_knn,digits_X,digits_y,normalize=\"pred\");"
   ]
  },
  {
   "cell_type": "markdown",
   "metadata": {},
   "source": [
    "__Respuesta:__  \n",
    "* La regresión logistica logra un ajuste perfecto, en cambio  3NN (mejor opción entre los kNN mayores a 1, el cual tiene ajuste prefecto), erra al ajustar 1s a 8s, 3s a 9s, 4s a 9s, 6s a 5s, 8s a 9s y, 9s a 5s y 7s. Prediciendo mal para varios dígitos.\n",
    "* La confusión no siempre va en ambas direcciones, por ejemplo, se confundió 8s con 1s, pero todos los unos se ajustaron bien, no se confundieron con 8s.\n",
    "* Hubo problemas con el 9, ajustando numeros que no son 9 al 9, y ajustando 9s a números que no lo son."
   ]
  },
  {
   "cell_type": "markdown",
   "metadata": {},
   "source": [
    "## Ejercicio 4\n",
    "\n",
    "(1 pto.)\n",
    "\n",
    "Escoge algún registro donde kNN se haya equivocado, _plotea_ la imagen y comenta las razones por las que el algoritmo se pudo haber equivocado."
   ]
  },
  {
   "cell_type": "code",
   "execution_count": null,
   "metadata": {},
   "outputs": [],
   "source": [
    "digits.loc[lambda df: df[\"target\"]!= best_knn.predict(digits_X)]"
   ]
  },
  {
   "cell_type": "markdown",
   "metadata": {},
   "source": [
    "El valor real del registro seleccionado es"
   ]
  },
  {
   "cell_type": "code",
   "execution_count": null,
   "metadata": {},
   "outputs": [],
   "source": [
    "i = 5\n",
    "digits.loc[i,\"target\"]"
   ]
  },
  {
   "cell_type": "markdown",
   "metadata": {},
   "source": [
    "Mentras que la predicción dada por kNN es"
   ]
  },
  {
   "cell_type": "code",
   "execution_count": null,
   "metadata": {},
   "outputs": [],
   "source": [
    " best_knn.predict(digits_X.loc[[i],:])"
   ]
  },
  {
   "cell_type": "markdown",
   "metadata": {},
   "source": [
    "A continuación la imagen"
   ]
  },
  {
   "cell_type": "code",
   "execution_count": null,
   "metadata": {},
   "outputs": [],
   "source": [
    "plt.imshow(digits_X.loc[[i], :].to_numpy().reshape(8, 8), cmap=plt.cm.gray_r, interpolation='nearest');"
   ]
  },
  {
   "cell_type": "markdown",
   "metadata": {},
   "source": [
    "__Respuesta:__  La parte inferior es similar a la de un 9 y no se logra apreciar el espacio que debería existir en la parte superior del 5, se podría confundir con un 9 con el circulo pequeño, incluso una prsona tendria dificultad en clasificarlo."
   ]
  }
 ],
 "metadata": {
  "kernelspec": {
   "display_name": "Python 3",
   "language": "python",
   "name": "python3"
  },
  "language_info": {
   "codemirror_mode": {
    "name": "ipython",
    "version": 3
   },
   "file_extension": ".py",
   "mimetype": "text/x-python",
   "name": "python",
   "nbconvert_exporter": "python",
   "pygments_lexer": "ipython3",
   "version": "3.7.8"
  }
 },
 "nbformat": 4,
 "nbformat_minor": 4
}
