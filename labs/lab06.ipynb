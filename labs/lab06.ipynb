{
 "cells": [
  {
   "cell_type": "markdown",
   "metadata": {
    "slideshow": {
     "slide_type": "slide"
    }
   },
   "source": [
    "# Laboratorio 6"
   ]
  },
  {
   "cell_type": "markdown",
   "metadata": {},
   "source": [
    "En este laboratorio utilizaremos un conjunto de datos de __Precios de Paltas__, extraído desde [Kaggle](https://www.kaggle.com/neuromusic/avocado-prices).\n",
    "\n",
    "#### Context\n",
    "_It is a well known fact that Millenials LOVE Avocado Toast. It's also a well known fact that all Millenials live in their parents basements._\n",
    "\n",
    "Clearly, they aren't buying home because they are buying too much Avocado Toast!\n",
    "\n",
    "But maybe there's hope... if a Millenial could find a city with cheap avocados, they could live out the Millenial American Dream.\n",
    "\n",
    "#### Content\n",
    "This data was downloaded from the Hass Avocado Board website in May of 2018 & compiled into a single CSV. Here's how the Hass Avocado Board describes the data on their website:\n",
    "\n",
    "> The table below represents weekly 2018 retail scan data for National retail volume (units) and price. Retail scan data comes directly from retailers’ cash registers based on actual retail sales of Hass avocados. Starting in 2013, the table below reflects an expanded, multi-outlet retail data set. Multi-outlet reporting includes an aggregation of the following channels: grocery, mass, club, drug, dollar and military. The Average Price (of avocados) in the table reflects a per unit (per avocado) cost, even when multiple units (avocados) are sold in bags. The Product Lookup codes (PLU’s) in the table are only for Hass avocados. Other varieties of avocados (e.g. greenskins) are not included in this table.\n",
    "\n",
    "Some relevant columns in the dataset:\n",
    "\n",
    "* `Date` - The date of the observation\n",
    "* `AveragePrice` - the average price of a single avocado\n",
    "* `type` - conventional or organic\n",
    "* `year` - the year\n",
    "* `Region` - the city or region of the observation\n",
    "* `Total Volume` - Total number of avocados sold\n",
    "* `4046` - Total number of avocados with PLU 4046 sold\n",
    "* `4225` - Total number of avocados with PLU 4225 sold\n",
    "* `4770` - Total number of avocados with PLU 4770 sold"
   ]
  },
  {
   "cell_type": "markdown",
   "metadata": {},
   "source": [
    "Veamos el conjunto de datos y formatémoslo con tal de aprovechar mejor la información"
   ]
  },
  {
   "cell_type": "code",
   "execution_count": null,
   "metadata": {},
   "outputs": [],
   "source": [
    "import os\n",
    "import numpy as np\n",
    "import pandas as pd\n",
    "import altair as alt\n",
    "\n",
    "alt.themes.enable('opaque')  # Para quienes utilizan temas oscuros en Jupyter Lab"
   ]
  },
  {
   "cell_type": "code",
   "execution_count": null,
   "metadata": {},
   "outputs": [],
   "source": [
    "data_path = os.path.join(\"..\", \"data\")\n",
    "data_filepath = os.path.join(data_path, \"avocado.csv\")\n",
    "paltas_raw = pd.read_csv(data_filepath, index_col=0)\n",
    "paltas_raw.head()"
   ]
  },
  {
   "cell_type": "code",
   "execution_count": null,
   "metadata": {},
   "outputs": [],
   "source": [
    "paltas = (\n",
    "    paltas_raw.assign(\n",
    "        dt_date=lambda x: pd.to_datetime(x[\"Date\"], format=\"%Y-%m-%d\")\n",
    "    )\n",
    "    .drop(columns=[\"Date\", \"year\", \"4046\", \"4225\", \"4770\"])\n",
    ")\n",
    "    \n",
    "paltas.head()"
   ]
  },
  {
   "cell_type": "markdown",
   "metadata": {},
   "source": [
    "## Ejercicio 1\n",
    "\n",
    "(1 pto)"
   ]
  },
  {
   "cell_type": "markdown",
   "metadata": {},
   "source": [
    "Haz un gráfico de líneas tal que:\n",
    "\n",
    "* El eje horziontal corresponda a la fecha.\n",
    "* El eje vertical al promedio del precio promedio.\n",
    "* El color sea por tipo de palta."
   ]
  },
  {
   "cell_type": "code",
   "execution_count": null,
   "metadata": {},
   "outputs": [],
   "source": [
    "alt.Chart(paltas).mark_line().encode(\n",
    "    x='dt_date',\n",
    "    y='average(AveragePrice)',\n",
    "    color='type'    \n",
    ")"
   ]
  },
  {
   "cell_type": "markdown",
   "metadata": {},
   "source": [
    "¿`MaxRowError`? ¿Qué es eso? Para todo el detalle puedes dirigirte [aquí](https://altair-viz.github.io/user_guide/faq.html#maxrowserror-how-can-i-plot-large-datasets). En lo que nos concierne, `altair` no solo genera los pixeles de un gráfico, si no que también guarda la data asociada a él. Este error es para advertir al usuario que los jupyter notebooks podrían utilizar mucha memoria. \n",
    "\n",
    "Una buena práctica en estos datos, es generar un archivo `json` con los datos y `altair` es capaz de leer la url directamente. El único inconveniente es que no detecta el tipo de dato automáticamente, por lo que siempre se debe declarar."
   ]
  },
  {
   "cell_type": "markdown",
   "metadata": {},
   "source": [
    "__BUG!__ La solución debiese ser la que dada por la documentación oficial, pero al parecer hay problemas en como accede JupyterLab a ciertos ficheros [issue](https://github.com/altair-viz/altair/issues/2308). Por lo tanto, utilizaremos la forma no recomendada, es decir, eliminar la restricción de filas."
   ]
  },
  {
   "cell_type": "code",
   "execution_count": null,
   "metadata": {},
   "outputs": [],
   "source": [
    "alt.data_transformers.disable_max_rows()"
   ]
  },
  {
   "cell_type": "markdown",
   "metadata": {},
   "source": [
    "En caso que el bug se haya resuelto, descomenta y ejecuta la siguiente celda para generar el archivo `json` y acceder a él por url."
   ]
  },
  {
   "cell_type": "code",
   "execution_count": null,
   "metadata": {},
   "outputs": [],
   "source": [
    "# paltas_url = os.path.join(data_path, \"paltas.json\")\n",
    "# paltas.to_json(paltas_url, orient=\"records\")\n",
    "\n",
    "# alt.data_transformers.enable('json')  # Para poder leer directamente la url de un archivo json.\n",
    "\n",
    "# alt.Chart(paltas_url).mark_line().encode(\n",
    "#     x=\"dt_date:T\",\n",
    "#     y=\"AveragePrice:Q\",\n",
    "#     color=\"type:N\"\n",
    "# ).properties(\n",
    "#     width=800, \n",
    "#     height=400 \n",
    "# )"
   ]
  },
  {
   "cell_type": "markdown",
   "metadata": {},
   "source": [
    "Ahora vuelve a ejecutar tu código en la siguiente celda y observa que ahora si se genera el gráfico."
   ]
  },
  {
   "cell_type": "code",
   "execution_count": null,
   "metadata": {},
   "outputs": [],
   "source": [
    "alt.Chart(paltas).mark_line().encode(\n",
    "    x='dt_date',\n",
    "    y='average(AveragePrice)',\n",
    "    color='type'    \n",
    ")"
   ]
  },
  {
   "cell_type": "markdown",
   "metadata": {},
   "source": [
    "## Ejercicio 2\n",
    "\n",
    "(2 ptos)\n",
    "\n",
    "Genera un gráfico similar al del gráfico anterior, pero esta vez coloreando por región, es decir, un gráfico de líneas tal que:\n",
    "\n",
    "* El eje horziontal corresponda a la fecha.\n",
    "* El eje vertical al promedio de precio promedio.\n",
    "* El color sea por región."
   ]
  },
  {
   "cell_type": "code",
   "execution_count": null,
   "metadata": {},
   "outputs": [],
   "source": [
    "alt.Chart(paltas).mark_line().encode(\n",
    "    x='dt_date',\n",
    "    y='average(AveragePrice)',\n",
    "    color='region' \n",
    ").properties(\n",
    "    width=800, \n",
    "    height=400 \n",
    ")"
   ]
  },
  {
   "cell_type": "markdown",
   "metadata": {},
   "source": [
    "¿Te parece adecuado y/o que entrega información útil?"
   ]
  },
  {
   "cell_type": "markdown",
   "metadata": {},
   "source": [
    "Ahora, para mostrar la misma información, genera un mapa de calor."
   ]
  },
  {
   "cell_type": "code",
   "execution_count": null,
   "metadata": {},
   "outputs": [],
   "source": [
    "alt.Chart(paltas).mark_rect().encode(\n",
    "    x='dt_date:O',\n",
    "    y='region',\n",
    "    color='average(AveragePrice):Q',\n",
    ").properties(\n",
    "    width=800, \n",
    "    height=800 \n",
    ")"
   ]
  },
  {
   "cell_type": "markdown",
   "metadata": {},
   "source": [
    "__Pregunta:__ ¿Por qué es mejor utilizar un mapa de calor en este caso?\n",
    "\n",
    "__Respuesta:__ Debido a la gran cantidad de regiones, es díficil distingirlas en el gráfico de líneas. En el mapa de calor, es más facil reconocer que pasa en cada región, y también se puede comparar/ reconocer fácilmente patrones a lo largo de las regiones."
   ]
  },
  {
   "cell_type": "markdown",
   "metadata": {},
   "source": [
    "## Ejercicio 3\n",
    "\n",
    "(1 pto)\n",
    "\n",
    "¿Existirá alguna relación entre `Total Volumne`, `Total Bags` y `AveragePrice` para cada uno de los tipos de palta?\n",
    "\n",
    "Haz un gráfico tal que:\n",
    "\n",
    "* Eje X e Y sean `Total Bags` y `Total Volume` respectivamente.\n",
    "* El color sea relacionado al precio promedio y utiliza el `scheme` _goldgreen_. Documentación [aquí](https://altair-viz.github.io/user_guide/customization.html#color-schemes).\n",
    "* Opacidad fija de 0.6.\n",
    "* Divide columans por `type` (con esto obtendrás dos subgráficos).\n",
    "* Debe ser de tamaño 600 x 400.\n",
    "\n",
    "Recuerda seleccionar un tipo de gráfico (_mark_) de acorde a todos los datos a graficar.\n"
   ]
  },
  {
   "cell_type": "code",
   "execution_count": null,
   "metadata": {},
   "outputs": [],
   "source": [
    "alt.Chart(paltas).mark_circle(opacity=0.6).encode(\n",
    "    x=\"Total Bags\",\n",
    "    y=\"Total Volume\",\n",
    "    color=alt.Color(\"AveragePrice:Q\",\n",
    "        scale=alt.Scale(scheme='goldgreen'),\n",
    "    ),\n",
    "    column=\"type\"\n",
    ").properties(\n",
    "    title=\"Relación entre volumen, bolsas y precio para cada tipo de palta\",\n",
    "    width=600, \n",
    "    height=400 \n",
    ")"
   ]
  },
  {
   "cell_type": "markdown",
   "metadata": {},
   "source": [
    "__Pregunta:__ ¿Hay alguna relación o conclusión que puedas inferir solo utilizando el gráfico anterior?\n",
    "\n",
    "__Respuesta:__ Hay un grado de correlación lineal entre la cantidad de bolsas y el volumen total. La producción de paltas organicas esta acotada a una menor cantidad de bolsas/un menor volumen, con una relación volumen/bolsas, fuertemente lineal, pareciera ser más cara respecto a la convecional. Para palta convencional, se observa un grupo con menores ventas más pequeños concetrado, y ventas grandes  más disperso.Para el segundo caso, pareciera haber una relación entre el precio promedio y y el ratio volumen/bolsas, con mayores precios asociados a una menor cantidad de volumen vendido respecto a la cantidad  de bolsas."
   ]
  }
 ],
 "metadata": {
  "kernelspec": {
   "display_name": "Python 3",
   "language": "python",
   "name": "python3"
  },
  "language_info": {
   "codemirror_mode": {
    "name": "ipython",
    "version": 3
   },
   "file_extension": ".py",
   "mimetype": "text/x-python",
   "name": "python",
   "nbconvert_exporter": "python",
   "pygments_lexer": "ipython3",
   "version": "3.7.8"
  }
 },
 "nbformat": 4,
 "nbformat_minor": 4
}
