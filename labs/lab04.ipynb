{
 "cells": [
  {
   "cell_type": "markdown",
   "metadata": {
    "slideshow": {
     "slide_type": "slide"
    }
   },
   "source": [
    "# Laboratorio 4"
   ]
  },
  {
   "cell_type": "code",
   "execution_count": null,
   "metadata": {},
   "outputs": [],
   "source": [
    "import pandas as pd\n",
    "from pathlib import Path"
   ]
  },
  {
   "cell_type": "markdown",
   "metadata": {},
   "source": [
    "Utilizarás el conjunto de datos de pokemon."
   ]
  },
  {
   "cell_type": "code",
   "execution_count": null,
   "metadata": {},
   "outputs": [],
   "source": [
    "pkm = (\n",
    "    pd.read_csv(Path().resolve().parent / \"data\" / \"pokemon.csv\", index_col=\"#\")\n",
    "    .rename(columns=lambda x: x.replace(\" \", \"\").replace(\".\", \"_\").lower())\n",
    ")\n",
    "pkm.head()"
   ]
  },
  {
   "cell_type": "markdown",
   "metadata": {},
   "source": [
    "## Ejercicio 1\n",
    "\n",
    "(1 pto)\n",
    "\n",
    "Agrupar por `generation` y `legendary` y obtener por grupo:\n",
    "\n",
    "* Promedio de `hp`\n",
    "* Mínimo y máximo de `sp_atk` y `sp_def`"
   ]
  },
  {
   "cell_type": "code",
   "execution_count": null,
   "metadata": {},
   "outputs": [],
   "source": [
    "(\n",
    "    pkm.groupby(['generation','legendary'])\n",
    "    .agg(\n",
    "        {\"hp\":\"mean\",'sp_atk':['min','max'],'sp_def':['min','max']}\n",
    "    )\n",
    ")"
   ]
  },
  {
   "cell_type": "markdown",
   "metadata": {},
   "source": [
    "## Ejercicio 2\n",
    "\n",
    "(1 pto)\n",
    "\n",
    "El profesor Oakgueda determinó que una buen indicador de pokemones es: \n",
    "\n",
    "$$ 0.2 \\, \\textrm{hp} + 0.4 \\,(\\textrm{attack} + \\textrm{sp_atk})^2 + 0.3 \\,( \\textrm{defense} + \\textrm{sp_deff})^{1.5} + 0.1 \\, \\textrm{speed}$$\n",
    "\n",
    "Según este indicador, ¿Qué grupo de pokemones (`type1`, `type2`) es en promedio mejor que el resto? "
   ]
  },
  {
   "cell_type": "code",
   "execution_count": null,
   "metadata": {},
   "outputs": [],
   "source": [
    "def oakgueda_indicator(df):\n",
    "    oakgueda_ind = 0.2*df['hp']+0.4*(df['attack']+df['sp_atk'])**2+0.3*(df['defense']+df['sp_def'])**(1.5)+0.1*df['speed']\n",
    "    return oakgueda_ind"
   ]
  },
  {
   "cell_type": "code",
   "execution_count": null,
   "metadata": {},
   "outputs": [],
   "source": [
    "pkm.groupby([\"type1\", \"type2\"]).apply(lambda df: oakgueda_indicator(df).mean()).idxmax()\n"
   ]
  },
  {
   "cell_type": "markdown",
   "metadata": {},
   "source": [
    "__Respuesta__: En promedio, los pokemones Ground-Fire son mejores según el indicador del profesor Oakgueda."
   ]
  },
  {
   "cell_type": "markdown",
   "metadata": {},
   "source": [
    "## Ejercicio 3\n",
    "\n",
    "(1 pto)\n",
    "\n",
    "Define una función que escale los datos tal que, si $s$ es una columna: \n",
    "\n",
    "$$s\\_scaled = \\frac{s - \\min(s)}{\\max(s) - \\min(s)}$$\n",
    "\n",
    "Y luego transforma cada columna numérica agrupando por si el pokemon es legendario o no."
   ]
  },
  {
   "cell_type": "code",
   "execution_count": null,
   "metadata": {},
   "outputs": [],
   "source": [
    "def minmax_scale(s):\n",
    "    return (s-s.min())/(s.max()-s.min())\n",
    "\n",
    "pkm.groupby('legendary').transform(minmax_scale)"
   ]
  },
  {
   "cell_type": "markdown",
   "metadata": {},
   "source": [
    "## Ejercicio 4\n",
    "\n",
    "(1 pto)\n",
    "\n",
    "El profesor Oakgueda necesita saber cuántos pokemones hay luego de filtrar el dataset tal que el grupo de (`type1`, `type2`) tenga en promedio un indicador (el del ejercicio #2) mayor a 40000."
   ]
  },
  {
   "cell_type": "code",
   "execution_count": null,
   "metadata": {},
   "outputs": [],
   "source": [
    "pkm.groupby(['type1','type2']).filter(lambda df: oakgueda_indicator(df).mean() >40000 ).shape[0]"
   ]
  },
  {
   "cell_type": "markdown",
   "metadata": {},
   "source": [
    "__Respuesta:__ Hay solo dos pokemones que cumplen esta condición."
   ]
  },
  {
   "cell_type": "markdown",
   "metadata": {},
   "source": [
    "## Bonus Track\n",
    "\n",
    "Honestamente, ¿te causó risa el chiste del profesor Oakgueda? Responde del 1 al 5, donde 1 es equivalente a _\"Me dio vergüenza ajena\"_ y 5 a _\"Me alegró el día y mi existencia en la UTFSM\"_."
   ]
  },
  {
   "cell_type": "markdown",
   "metadata": {},
   "source": [
    "__Respuesta__: 4"
   ]
  }
 ],
 "metadata": {
  "celltoolbar": "Slideshow",
  "kernelspec": {
   "display_name": "Python 3",
   "language": "python",
   "name": "python3"
  },
  "language_info": {
   "codemirror_mode": {
    "name": "ipython",
    "version": 3
   },
   "file_extension": ".py",
   "mimetype": "text/x-python",
   "name": "python",
   "nbconvert_exporter": "python",
   "pygments_lexer": "ipython3",
   "version": "3.7.8"
  }
 },
 "nbformat": 4,
 "nbformat_minor": 4
}
