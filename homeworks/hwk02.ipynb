{
 "cells": [
  {
   "cell_type": "markdown",
   "metadata": {},
   "source": [
    "# MAT281 - Tarea 2"
   ]
  },
  {
   "cell_type": "markdown",
   "metadata": {},
   "source": [
    "**Indicaciones**:\n",
    "\n",
    "* En los **Ejercicio 1-8** puedes utilizar tanto `matplotlib` como `altair` según te parezca más conveniente o cómodo, en ambos casos cada gráfico debe tener elementos mínimos como:\n",
    "    - Título\n",
    "    - Nombre de los ejes, leyendas, etc. en formato _amigable_/_humano_, por ejemplo, si la columna del dataframe en cuestión tiene por nombre `casos_confirmados` se espera que el eje del gráfico tenga por nombre `Casos confirmados`.\n",
    "    - Colores adecuados al tipo de datos.\n",
    "    - Un tamaño adecuado para ver con facilidad en una pantalla con resolución HD o FullHD.\n",
    "    - Cada vez que no se cumplan alguna de estos requerimientos se descontará __1 punto__ de la nota final.\n",
    "\n",
    "* Para el **Ejercicio 9** es obligación utilizar `altair`.\n",
    "* Cada ejercicio debe estar acompañado con una celda con comentarios o análisis que puedas desprender de los gráficos."
   ]
  },
  {
   "cell_type": "code",
   "execution_count": null,
   "metadata": {},
   "outputs": [],
   "source": [
    "import numpy as np\n",
    "import pandas as pd\n",
    "import matplotlib.pyplot as plt\n",
    "import altair as alt\n",
    "import ipywidgets as widgets\n",
    "\n",
    "from datetime import date\n",
    "from ipywidgets import interactive, interact\n",
    "\n",
    "pd.set_option('display.max_columns', 999)\n",
    "# alt.data_transformers.enable('data_server')\n",
    "alt.data_transformers.disable_max_rows()\n",
    "alt.themes.enable('opaque')\n",
    "\n",
    "%matplotlib inline"
   ]
  },
  {
   "cell_type": "markdown",
   "metadata": {},
   "source": [
    "**COVID-19 en Chile** \n",
    "\n",
    "En esta tarea exploraremos los datos de Covid-19 en Chile a profundidad. Las siguientes celdas cargarán los datos a utilizar en tu sesión. Es importante que leas la documentación de cada conjunto de datos para comprender las columnas."
   ]
  },
  {
   "cell_type": "code",
   "execution_count": null,
   "metadata": {},
   "outputs": [],
   "source": [
    "start_date = pd.to_datetime(\"2020-04-13\")"
   ]
  },
  {
   "cell_type": "code",
   "execution_count": null,
   "metadata": {},
   "outputs": [],
   "source": [
    "# https://github.com/MinCiencia/Datos-COVID19/tree/master/output/producto6\n",
    "confirmados = (\n",
    "    pd.read_csv(\"https://raw.githubusercontent.com/MinCiencia/Datos-COVID19/master/output/producto6/bulk/data.csv\")\n",
    "    .rename(columns=lambda x: x.lower().replace(\" \", \"_\"))\n",
    "    .assign(fecha=lambda x: pd.to_datetime(x[\"fecha\"]))\n",
    "    .loc[lambda x: x[\"fecha\"] >= start_date]\n",
    "    .dropna()\n",
    "    .astype({\"casos_confirmados\": np.float, \"tasa\": np.float})\n",
    ")\n",
    "\n",
    "confirmados.head()"
   ]
  },
  {
   "cell_type": "code",
   "execution_count": null,
   "metadata": {},
   "outputs": [],
   "source": [
    "# https://github.com/MinCiencia/Datos-COVID19/tree/master/output/producto19\n",
    "activos = (\n",
    "    pd.read_csv(\"https://raw.githubusercontent.com/MinCiencia/Datos-COVID19/master/output/producto19/CasosActivosPorComuna.csv\")\n",
    "    .rename(columns=lambda x: x.lower().replace(\" \", \"_\"))\n",
    "    .loc[lambda x: x[\"codigo_comuna\"].notnull()]\n",
    "    .melt(id_vars=[\"region\", \"codigo_region\", \"comuna\", \"codigo_comuna\", \"poblacion\"], var_name=\"fecha\", value_name=\"casos_activos\")\n",
    "    .assign(fecha=lambda x: pd.to_datetime(x[\"fecha\"]))\n",
    "    .loc[lambda x: x[\"fecha\"] >= start_date]\n",
    ")\n",
    "\n",
    "activos.head()"
   ]
  },
  {
   "cell_type": "code",
   "execution_count": null,
   "metadata": {},
   "outputs": [],
   "source": [
    "# https://github.com/MinCiencia/Datos-COVID19/tree/master/output/producto14\n",
    "fallecidos = (\n",
    "    pd.read_csv(\"https://raw.githubusercontent.com/MinCiencia/Datos-COVID19/master/output/producto14/FallecidosCumulativo.csv\")\n",
    "    .rename(columns=lambda x: x.lower().replace(\" \", \"_\"))\n",
    "    .melt(id_vars=[\"region\"], var_name=\"fecha\", value_name=\"fallecidos\")\n",
    "    .assign(\n",
    "        fecha=lambda x: pd.to_datetime(x[\"fecha\"]),\n",
    "    )\n",
    "    .loc[lambda x: x[\"fecha\"] >= start_date]\n",
    ")\n",
    "\n",
    "fallecidos.head()"
   ]
  },
  {
   "cell_type": "code",
   "execution_count": null,
   "metadata": {},
   "outputs": [],
   "source": [
    "# https://github.com/MinCiencia/Datos-COVID19/tree/master/output/producto10\n",
    "fallecidos_etareo = (\n",
    "    pd.read_csv(\"https://raw.githubusercontent.com/MinCiencia/Datos-COVID19/master/output/producto10/FallecidosEtario.csv\")\n",
    "    .rename(columns=lambda x: x.lower().replace(\" \", \"_\"))\n",
    "    .melt(id_vars=[\"grupo_de_edad\"], var_name=\"fecha\", value_name=\"fallecidos\")\n",
    "    .assign(\n",
    "        fecha=lambda x: pd.to_datetime(x[\"fecha\"]),\n",
    "        grupo_de_edad=lambda x: x[\"grupo_de_edad\"].str.replace(\"<=39\", \"0-39\")\n",
    "    )\n",
    "    .loc[lambda x: x[\"fecha\"] >= start_date]\n",
    ")\n",
    "\n",
    "fallecidos_etareo.head()"
   ]
  },
  {
   "cell_type": "markdown",
   "metadata": {},
   "source": [
    "## Ejercicio 1\n",
    "\n",
    "(10 puntos)\n",
    "\n",
    "Mostrar cantidad de fallecidos la fecha por cada grupo etáreo."
   ]
  },
  {
   "cell_type": "code",
   "execution_count": null,
   "metadata": {},
   "outputs": [],
   "source": [
    "alt.Chart(fallecidos_etareo,title=\"fallecidos según fecha agrupados por edad\").mark_line().encode(\n",
    "    x=\"fecha:T\",\n",
    "    y=alt.Y(\"fallecidos\"),\n",
    "    color=\"grupo_de_edad:N\"\n",
    ")"
   ]
  },
  {
   "cell_type": "markdown",
   "metadata": {},
   "source": [
    "**Comentarios:**  Notamos  que hay grandes ingresos de fallecidos al sistema a mitad de Julio, antes de ese momento la diferencia entre las curvas cambia, después la diferencia no cambia tan rápido. El grupo con la mayor cantidad de casos es de 70-79, luego 80-89 y 60-69 en el último tiempo."
   ]
  },
  {
   "cell_type": "markdown",
   "metadata": {},
   "source": [
    "## Ejercicio 2\n",
    "\n",
    "(10 puntos)\n",
    "\n",
    "¿Qué tan variable es la población de las comunas de Chile? Considera utilizar un gráfico que resuma de buena forma la información sin agregar la variable de región o provincia."
   ]
  },
  {
   "cell_type": "code",
   "execution_count": null,
   "metadata": {},
   "outputs": [],
   "source": [
    "\n",
    "pobla=activos.loc[:,[\"codigo_comuna\",\"poblacion\"]].drop_duplicates()\n",
    "\n",
    "alt.Chart(pobla,title=\"Histograma de la población de las comunas de Chile\").mark_bar().encode(\n",
    "   alt.X(\"poblacion:Q\" , bin=alt.Bin(extent=[0, 700000], step=3000), title= \"población(agrupada en intervalos)\"),\n",
    "   y=alt.Y('count()',title=\"cantidad de comunas\"),\n",
    "\n",
    ").properties(\n",
    "    width=1250,\n",
    "    height=500\n",
    ")\n"
   ]
  },
  {
   "cell_type": "markdown",
   "metadata": {},
   "source": [
    "**Comentarios:** Se hizo un histograma de la notación. Notamos como la mayor parte de las comunas tienen una concetración entre 0 y 36000 app personas, si bien hay comuna "
   ]
  },
  {
   "cell_type": "markdown",
   "metadata": {},
   "source": [
    "## Ejercicio 3\n",
    "\n",
    "(10 puntos)\n",
    "\n",
    "Mostrar evolución y comparación de los fallecimientos entre distintos grupos etáreos, pero que al mismo tiempo sea fácil identificar la cantidad de fallecidos total en cada fecha."
   ]
  },
  {
   "cell_type": "code",
   "execution_count": null,
   "metadata": {},
   "outputs": [],
   "source": [
    "\n",
    "alt.Chart(fallecidos_etareo,title=\"fallecidos según grupo de edad\").mark_area().encode(\n",
    "    x=\"fecha:T\",\n",
    "    y=alt.Y(\"fallecidos\"),\n",
    "    color=alt.Color(\"grupo_de_edad:N\",title=\"grupo de edad\")\n",
    ")"
   ]
  },
  {
   "cell_type": "markdown",
   "metadata": {},
   "source": [
    "**Comentarios:** Notamos momentos en que hay grandes ingresos de fallecidos al sistema(por ej. a mitad de Julio), también que la mayor proporción de muertes respecto al total se ecunetra en las personas mayores de 60 años, especialemente, entre los grupos de 60-69, 70-79 y 80-89 años, con csntidades similares entre estos."
   ]
  },
  {
   "cell_type": "markdown",
   "metadata": {},
   "source": [
    "## Ejercicio 4\n",
    "\n",
    "(10 puntos)\n",
    "\n",
    "Mostrar en tres gráficos la evolución de casos confirmados, evolución de fallecimientos y evolución de casos activos."
   ]
  },
  {
   "cell_type": "code",
   "execution_count": null,
   "metadata": {},
   "outputs": [],
   "source": [
    "\n",
    "alt.Chart(confirmados, title=\"número de casos confirmados a nivel nacional según fecha\").mark_line().encode(\n",
    "    x=\"fecha:T\",\n",
    "    y=alt.Y(\"sum(casos_confirmados)\",title=\"número de casos confirmados\")\n",
    ")"
   ]
  },
  {
   "cell_type": "code",
   "execution_count": null,
   "metadata": {},
   "outputs": [],
   "source": [
    "alt.Chart(activos,title=\"casos activos a nivel nacional según fecha \").mark_line().encode(\n",
    "    x=\"fecha:T\",\n",
    "    y=alt.Y(\"sum(casos_activos)\",title=\"número de casos activos\")\n",
    ")"
   ]
  },
  {
   "cell_type": "code",
   "execution_count": null,
   "metadata": {},
   "outputs": [],
   "source": [
    "alt.Chart(fallecidos,title=\"número de fallecidos a nivel nacional según fecha\").mark_line().encode(\n",
    "    x=\"fecha:T\",\n",
    "    y=alt.Y(\"sum(fallecidos)\",title=\"cantidad de fallecidos\")\n",
    ")"
   ]
  },
  {
   "cell_type": "markdown",
   "metadata": {},
   "source": [
    "**Comentarios:** Notamos que los casos confirmados, y el número de fallecidos tienen un comportamiento similar que no presentan los casos activos, esto esta relacionados los casos confirmados y fallecidos son acumulativos, mientras que los casos activos no. Notamos en los casos activos, tenemos un peak a mediados de Junio y luego disminuye, pero no de manera constante, hasta que en Noviembre practicamente se mantiene contante."
   ]
  },
  {
   "cell_type": "markdown",
   "metadata": {},
   "source": [
    "## Ejercicio 5\n",
    "\n",
    "(10 puntos)\n",
    "\n",
    "Comparar la tasa de incidencia entre las regiones a lo largo del tiempo."
   ]
  },
  {
   "cell_type": "code",
   "execution_count": null,
   "metadata": {},
   "outputs": [],
   "source": [
    "\n",
    "tasa=confirmados.groupby([\"region\",\"fecha\"]).apply(lambda df: (df[\"tasa\"]*df[\"poblacion\"]).sum()/df[\"poblacion\"].sum() ).to_frame().rename(columns={0:\"tasa\"}).reset_index()\n",
    "tasa[\"fecha\"]= [str(d.date()) for d in tasa[\"fecha\"]]\n",
    "\n",
    "alt.Chart(tasa,title=\" tasa de incidencia según región a lo largo del tiempo\").mark_rect().encode(\n",
    "    x=alt.X(\"region\", title=\"Región\"),\n",
    "    y=alt.Y(\"fecha:O\",title=\"fecha en formato Año-Mes-Día\"),\n",
    "    color=alt.Color(\"tasa:Q\")\n",
    ")"
   ]
  },
  {
   "cell_type": "markdown",
   "metadata": {},
   "source": [
    "**Comentarios:** Notamos como cada Región han habido comportamientos distintos, con algunas con contagios más tempranos y otros más tardios,así como también con variedad en los valores de tasas  , destacan los números de la región de Magallanes, donde si bien el aumento comenzó más tarde que en alguna de las otras regiones, es el que tiene la tasa más alta. "
   ]
  },
  {
   "cell_type": "markdown",
   "metadata": {},
   "source": [
    "## Ejercicio 6\n",
    "\n",
    "(10 puntos)\n",
    "\n",
    "¿Hay alguna conclusión que puedas obtener rápidamente al graficar un _scatter plot_ con los casos confirmados y tasa de incidencia de cada comuna para los días 13 de abril y 6 de noviembre del 2020? Además, colorea cada punto según la región a la que pertenece y considera si es útil en el gráfico que el tamaño sea proporcional a la población."
   ]
  },
  {
   "cell_type": "code",
   "execution_count": null,
   "metadata": {},
   "outputs": [],
   "source": [
    "#cambiar color, arreglar fechas, relación es simplemente ratio población, \n",
    "#tamño pelotitas\n",
    "comienzo = pd.to_datetime(\"2020-04-13\")\n",
    "fin=  pd.to_datetime(\"2020-11-06\")\n",
    "datos_comienzo=confirmados.loc[(confirmados[\"fecha\"]==comienzo)]\n",
    "datos_fin=confirmados.loc[confirmados[\"fecha\"]==fin]\n",
    "alt.Chart(datos_comienzo,title=\"tasa vs casos confirmados para el 13 de Abril de 2020\").mark_circle().encode(\n",
    "    x=alt.X(\"casos_confirmados\",title=\"casos confirmados\"),\n",
    "    y=alt.Y(\"tasa\", title=\"tasa (casos confirmados por 100.000 hab)\"),\n",
    "    color=alt.Color(\"region\" ,scale=alt.Scale(scheme=\"category20\")),\n",
    "    size=\"poblacion\",\n",
    "    tooltip=[\"comuna\"]\n",
    "    \n",
    ")"
   ]
  },
  {
   "cell_type": "code",
   "execution_count": null,
   "metadata": {},
   "outputs": [],
   "source": [
    "alt.Chart(datos_fin,title=\"tasa vs casos confirmados  para el el 6 de Noviembre de 2020\").mark_circle().encode(\n",
    "    x=alt.X(\"casos_confirmados\",title=\"casos confirmados\"),\n",
    "    y=alt.Y(\"tasa\", title=\"tasa (casos confirmados por 100.000 hab)\"),\n",
    "    color=alt.Color(\"region\" ,scale=alt.Scale(scheme=\"category20\")),\n",
    "    size=\"poblacion\",\n",
    "    tooltip=[\"comuna\",\"poblacion\"]\n",
    ").interactive()"
   ]
  },
  {
   "cell_type": "markdown",
   "metadata": {},
   "source": [
    "**Comentarios:**   \n",
    "Se pone el tamaño proporcional ya que nos permite notar como se relaciona los casos confirmados con la población de la comuna, con en general,  mayor cantidad de casos confirmados para comunas más grandes(se nota claramente).\n",
    "\n",
    "En ambos se logra reconocer regiones donde predominan las comunas de la región metropolitana, especialmente en la segunda fecha, correspondiendo en este caso a comunas con tasa más alta, y con poblaciones no ínfimas.\n",
    "\n",
    "para la primera fecha se observa un outlier que corresponde a la comuna de Cabo de Hornos.\n",
    "\n",
    "para la segunda fecha se observan valores de tasa/casos confirmados mayores. Un outlier en puente alto de casos confirmados.\n",
    "\n",
    "\n",
    "\n"
   ]
  },
  {
   "cell_type": "markdown",
   "metadata": {},
   "source": [
    "## Ejercicio 7\n",
    "\n",
    "(10 puntos)\n",
    "\n",
    "1. Grafica la evolución de los casos activos de cada comuna en un solo gráfico. \n",
    "2. Grafica la evolución de los casos activos de cada comuna en gráficos separados por región.\n",
    "\n",
    "Entrega los pros y contras de cada uno de estos enfoques."
   ]
  },
  {
   "cell_type": "code",
   "execution_count": null,
   "metadata": {},
   "outputs": [],
   "source": [
    "\n",
    "alt.Chart(activos,title= \"casos activos por región según fecha\" ).mark_line().encode(\n",
    "    x='fecha',\n",
    "    y=alt.Y('sum(casos_activos)',title=\"casos activos\"),\n",
    "    color=alt.Color('region',scale=alt.Scale(scheme=\"category20c\"))\n",
    ")"
   ]
  },
  {
   "cell_type": "code",
   "execution_count": null,
   "metadata": {},
   "outputs": [],
   "source": [
    "base = alt.Chart(activos).mark_line().encode(\n",
    "    x=\"fecha:T\",\n",
    "    y=alt.Y(\"sum(casos_activos)\",title=\"casos activos\")\n",
    ").properties(\n",
    "    width=280,\n",
    "    height=300\n",
    ").facet(\"region\",columns=4,title=\"Casos activos en cada región según fecha\").resolve_scale(x=\"independent\",y='independent')\n",
    "\n",
    "display(base)\n",
    "\n"
   ]
  },
  {
   "cell_type": "markdown",
   "metadata": {},
   "source": [
    "**Comentarios:** \n",
    "1. * Pros: Permite tener una idea de como se compara el comportamiento entre  regiones como \"grupo\". \n",
    "   * Contras: No se aprecia claramente la curva para alguna regiones\n",
    "   \n",
    "2. * Pros: Se observa claramente cual es el el comportamiento por región. \n",
    "   * Contras: Es más difícil comparar.\n"
   ]
  },
  {
   "cell_type": "markdown",
   "metadata": {},
   "source": [
    "## Ejercicio 8\n",
    "\n",
    "(10 puntos)\n",
    "\n",
    "Hacer un gráfico que permita comparar rápidamente entre regiones su promedio de casos activos , máximo de casos confirmados y fallecidos. Utiliza los valores reales y apoyarlos con colores.\n",
    "\n",
    "Se adjunta el diccionario `region_names` con tal de reemplazar los nombres de las regiones en los datos `fallecidos` para poder unir con los otros datos. "
   ]
  },
  {
   "cell_type": "code",
   "execution_count": null,
   "metadata": {},
   "outputs": [],
   "source": [
    "region_names = {\n",
    "    \"Araucanía\": \"La Araucanía\",\n",
    "    \"Aysén\": \"Aysén del General Carlos Ibáñez del Campo\",\n",
    "    \"Magallanes\": \"Magallanes y de la Antártica Chilena\",\n",
    "    \"Metropolitana\": \"Metropolitana de Santiago\",\n",
    "    \"O’Higgins\": \"Libertador General Bernardo O'Higgins\",\n",
    "}"
   ]
  },
  {
   "cell_type": "code",
   "execution_count": null,
   "metadata": {},
   "outputs": [],
   "source": [
    "\n",
    "mean_activos=activos[[\"codigo_region\",\"casos_activos\"]].groupby([\"codigo_region\"]).agg(\"mean\").reset_index()\n",
    "\n",
    "max_fallecidos=fallecidos.replace(region_names).groupby([\"region\",\"fecha\"]).agg(sum).reset_index().groupby([\"region\"]).agg(max).reset_index()\n",
    "\n",
    "max_confirmados=confirmados[[\"region\",\"region_id\",\"fecha\",\"casos_confirmados\"]].groupby([\"region\",\"region_id\",\"fecha\"]).agg(sum).reset_index().rename(columns={\"region_id\":\"codigo_region\"}).groupby([\"codigo_region\"]).agg(max).reset_index()\n",
    "\n",
    "merged=mean_activos.merge(max_confirmados,on=[\"codigo_region\"]).merge(max_fallecidos,on=[\"region\"])\n"
   ]
  },
  {
   "cell_type": "code",
   "execution_count": null,
   "metadata": {},
   "outputs": [],
   "source": [
    "base_fallecidos=alt.Chart(original,title=\"máximo de fallecidos\").mark_bar(color=\"blue\").encode(\n",
    "    y=alt.Y(\"region\",axis=alt.Axis(labels=False), title=None),\n",
    "    x=alt.X('fallecidos:Q', title=\"máximo de fallecidos\"),\n",
    "    \n",
    ").properties(width=400,height=700 )\n",
    "\n",
    "texto_fallecidos=base_fallecidos.mark_text( align='left',\n",
    "    baseline='middle',\n",
    "    dx=3 ).encode(\n",
    "    text=alt.Text('fallecidos'),\n",
    ")\n",
    "fallecidosgraph=base_fallecidos + texto_fallecidos\n",
    "\n",
    "base_confirmados=alt.Chart(original,title=\"máximo de casos confirmados\").mark_bar(color=\"red\").encode(\n",
    "    y=alt.Y(\"region\"),\n",
    "    x=alt.X('casos_confirmados:Q',title=\"máximo de casos confirmados\"),\n",
    "    text=alt.Text('casos:Q'),\n",
    ").properties(width=400 ,height=700)\n",
    "\n",
    "texto_confirmados=base_confirmados.mark_text( align='left',\n",
    "    baseline='middle',\n",
    "    dx=3 ).encode(\n",
    "    text=alt.Text('casos_confirmados'),\n",
    ")\n",
    "confirmadosgraph=base_confirmados + texto_confirmados\n",
    "\n",
    "base_activos=alt.Chart(original,title=\"promedio de casos activos\").mark_bar(color=\"green\").encode(\n",
    "    y=alt.Y(\"region\",axis=alt.Axis(labels=False),title=None),\n",
    "    x=alt.X(\"casos_activos\",title=\"promedio de casos activos\"),\n",
    ").properties(\n",
    "   height=700,width=400\n",
    "    )\n",
    "\n",
    "texto_activos=base_activos.mark_text( align='left',\n",
    "    baseline='middle',\n",
    "    dx=3 ).encode(\n",
    "    text=alt.Text('casos_activos',format='.1f'),\n",
    ")\n",
    "\n",
    "\n",
    "activosgraph=base_activos + texto_activos\n",
    "\n",
    "display((confirmadosgraph | fallecidosgraph | activosgraph ).configure_view(stroke=\"transparent\").properties(title=\"máximos de casos confirmados, máximo de fallecidos y promedio de casos activos por región\").configure_title( orient='top', anchor='middle'))"
   ]
  },
  {
   "cell_type": "markdown",
   "metadata": {},
   "source": [
    "**Comentarios:** Notamos que la región Metropolitana es un outlier en terminos de casos confirmados y fallecidos, pero no para los casos activos.\n",
    "\n",
    "Notamos que para los casos activos los datos no están tan \"concentrados\". \n",
    "\n",
    "Notamos la similaridad entre el máximo de casos confirmados y el máximo de fallecidos, siendo prácticamente iguales salvo escala, que nos estaría indicando correlación de variables. \n",
    "\n",
    "Notamos que el promedio de casos activos no se parece tanto al máximo de fallecidos y máximo de casos confirmados, con varias regiones con proporciones distintas. Esto puede estar asociado a que el promedio de casos activos podría no depender solamente en los casos que hay en el presente, si no que de la manera en que se llego ha esa cifra.\n",
    "\n",
    "se utilizó este tipo de gráfico por la facilidad de entender comparar lo que pasa entre regiones, así como entre variables, al utilizar area o color para graficar el máximo de casos confirmados o máximo de de fallecidos, se nota que la región metropolitana es más grande que el resto, pero entre las otras regiones puede ser más díficil comparar. Si se separan entre gráficos de distinto tipo, puede ser más díficil comparar entre variables. También se pudieron utilizar scatter plots, pero sería un poco más díficil reconocer entre gráficos la misma región."
   ]
  },
  {
   "cell_type": "markdown",
   "metadata": {},
   "source": [
    "## Ejercicio 9\n",
    "\n",
    "\n",
    "En este ejercicio buscaremos realizar un mini-dashboard respecto al estado de los casos de COVID-19 en Chile, por lo tanto utilizaremos haremos uso de datos geográficos de manera operacional (es decir, no nos preocuparemos de proyecciones en mapas ni nada por el estilo), lo único es que debes instalar `geopandas` en tu ambiente virtual y no olvidar actualizarlo en tu `environment.yml` para luego subirlo a tu repositorio de GitHub.\n",
    "\n",
    "Con tu ambiente activo (`conda activate mat281`) basta con ejecutar `conda install -c conda-forge geopandas` para instalar `geopandas`."
   ]
  },
  {
   "cell_type": "code",
   "execution_count": null,
   "metadata": {},
   "outputs": [],
   "source": [
    "import geopandas as gpd\n",
    "from pathlib import Path"
   ]
  },
  {
   "cell_type": "code",
   "execution_count": null,
   "metadata": {},
   "outputs": [],
   "source": [
    "shp_filepath = Path().resolve().parent / \"data\" / \"regiones_chile.shp\"\n",
    "regiones = gpd.read_file(shp_filepath)\n",
    "regiones.head()"
   ]
  },
  {
   "cell_type": "code",
   "execution_count": null,
   "metadata": {},
   "outputs": [],
   "source": [
    "type(regiones)"
   ]
  },
  {
   "cell_type": "markdown",
   "metadata": {},
   "source": [
    "Lo único que tienes que saber es que un `GeoDataFrame` es idéntico a un `DataFrame` salvo que debe poseer una columna llamada `geometry` caracterice los elementros geométricos, que en este casos son polígonos con los límites de las regiones de Chile. \n",
    "\n",
    "Para graficar mapas en Altair se debe usar `mark_geoshape`, además, para no preocuparnos de las proyecciones si o si debes declarar lo siguiente que se muestra en la siguiente celda en las propiedades del gráfico. El resto es igual a cualquier otro gráfico de Altair."
   ]
  },
  {
   "cell_type": "code",
   "execution_count": null,
   "metadata": {},
   "outputs": [],
   "source": [
    "alt.Chart(regiones).mark_geoshape().encode(\n",
    ").properties(\n",
    "    projection={'type': 'identity', 'reflectY': True},\n",
    "    width=250,\n",
    "    height=600\n",
    ")"
   ]
  },
  {
   "cell_type": "markdown",
   "metadata": {},
   "source": [
    "### Ejercicio 9.1\n",
    "\n",
    "(10 puntos)\n",
    "\n",
    "Define el `DataFrame` con el nombre `casos_geo` tal que tenga las columnas\n",
    "\n",
    "* `region`\n",
    "* `codigo_region`\n",
    "* `fecha`\n",
    "* `poblacion`\n",
    "* `casos_confirmados`\n",
    "* `tasa`\n",
    "* `casos_activos`\n",
    "* `fallecidos`\n",
    "* `geometry`\n",
    "\n",
    "Ten mucho cuidado como unes los dataframes `confirmados`, `activos`, `fallecidos` y `regiones`. Idealmente utilizar el código de región, pero en caso que no se encuentren disponibles utilizar el nombre de la región (no olivdar utilizar el diccionario `region_names`)."
   ]
  },
  {
   "cell_type": "code",
   "execution_count": null,
   "metadata": {},
   "outputs": [],
   "source": [
    "tasa=confirmados.groupby([\"region_id\",\"region\",\"fecha\"]).apply(lambda df: (df[\"tasa\"]*df[\"poblacion\"]).sum()/df[\"poblacion\"].sum() ).to_frame().rename(columns={0:\"tasa\"}).reset_index()\n",
    "\n",
    "suma_activos=activos[[\"codigo_region\",\"fecha\",\"casos_activos\",\"poblacion\"]].groupby([\"codigo_region\",\"fecha\"]).agg(sum).reset_index()\n",
    "display(suma_activos)\n",
    "\n",
    "suma_fallecidos=fallecidos.replace(region_names).groupby([\"region\",\"fecha\"]).agg(sum).reset_index()\n",
    "suma_confirmados=confirmados[[\"region\",\"fecha\",\"casos_confirmados\"]].groupby([\"region\",\"fecha\"]).agg(sum).reset_index()\n",
    "display(suma_confirmados)\n",
    "\n",
    "display(suma_fallecidos)\n",
    "casos_geo = (\n",
    "    regiones[[\"codregion\",\"geometry\"]].rename(columns={\"codregion\":\"codigo_region\"})\n",
    "    .merge(suma_activos,on=[\"codigo_region\"])\n",
    "    .merge(tasa.rename(columns={\"region_id\":\"codigo_region\"}),on=[\"codigo_region\",\"fecha\"])\n",
    "    .merge(suma_fallecidos,on=[\"region\",\"fecha\"])\n",
    "    .merge(suma_confirmados,on=[\"region\",\"fecha\"])\n",
    "    \n",
    ")\n",
    "\n",
    "casos_geo.head()"
   ]
  },
  {
   "cell_type": "markdown",
   "metadata": {},
   "source": [
    "Ejecuta lo siguiente para convertir el DataFrame anterior en un GeoDataFrames"
   ]
  },
  {
   "cell_type": "code",
   "execution_count": null,
   "metadata": {},
   "outputs": [],
   "source": [
    "casos_geo = casos_geo.pipe(lambda x: gpd.GeoDataFrame(x, geometry=\"geometry\"))"
   ]
  },
  {
   "cell_type": "markdown",
   "metadata": {},
   "source": [
    "### Ejercicio 9.2\n",
    "\n",
    "(5 puntos)\n",
    "\n",
    "Modifica la función `covid_chile_chart` tal que reciba una fecha y una columna. Luego, debe filtrar `casos_geo` con registros de la fecha seleccionada y graficar un mapa donde las regiones se colereen según la columna escogida. "
   ]
  },
  {
   "cell_type": "code",
   "execution_count": null,
   "metadata": {},
   "outputs": [],
   "source": [
    "def covid_chile_chart(fecha, col):\n",
    "    \n",
    "    fecha = pd.to_datetime(fecha)\n",
    "    data = casos_geo[lambda df: df[\"fecha\"]==fecha]\n",
    "    chart = alt.Chart(data).mark_geoshape().encode(\n",
    "        x=\"region:N\",\n",
    "        color=alt.Color(col,type=\"quantitative\")\n",
    "    ).properties(\n",
    "        projection={'type': 'identity', 'reflectY': True},\n",
    "        width=150,\n",
    "        height=400\n",
    "    )\n",
    "    \n",
    "    chart.display()\n",
    "    return"
   ]
  },
  {
   "cell_type": "markdown",
   "metadata": {},
   "source": [
    "Prueba con lo siguiente"
   ]
  },
  {
   "cell_type": "code",
   "execution_count": null,
   "metadata": {},
   "outputs": [],
   "source": [
    "fecha = \"2020-04-13\"\n",
    "col = \"tasa\" \n",
    "covid_chile_chart(fecha, col)"
   ]
  },
  {
   "cell_type": "markdown",
   "metadata": {},
   "source": [
    "### Ejercicio 9.3\n",
    "\n",
    "(5 puntos)\n",
    "\n",
    "Ahora utilizando `widgets` generaremos el dashboard interactivo. Define lo siguiente:\n",
    "\n",
    "* col_widget: Un `widgets.Dropdown` donde las opciones a seleccionar sean las columnas `poblacion`, `casos_confirmados`, `tasa`, `casos_activos` y `fallecidos`. Además, el argumento `description` debe ser `Columna`.\n",
    "* fecha_widget: Un `widgets.DatePicker` donde el argumento `description` sea `Fecha`.\n",
    "* Ambos widgets deben tener el argumento `continuous_update=False`"
   ]
  },
  {
   "cell_type": "code",
   "execution_count": null,
   "metadata": {},
   "outputs": [],
   "source": [
    "import ipywidgets as widgets\n",
    "from ipywidgets import interactive, interact"
   ]
  },
  {
   "cell_type": "code",
   "execution_count": null,
   "metadata": {},
   "outputs": [],
   "source": [
    "col_widget = widgets.Dropdown(options=['poblacion', 'casos_confirmados', 'tasa', 'casos_activos','fallecidos'],description=\"Columna\",continuous_update=False)"
   ]
  },
  {
   "cell_type": "code",
   "execution_count": null,
   "metadata": {},
   "outputs": [],
   "source": [
    "fecha_widget = widgets.DatePicker(description=\"Fecha\",continuous_update=False)"
   ]
  },
  {
   "cell_type": "markdown",
   "metadata": {},
   "source": [
    "Finalmente, haciendo uso de `interactive`, la función `covid_chile_chart` y todos los widgets es posible crear un _dashboard_ interactivo con los datos de Covid-19.\n",
    "\n",
    "Respira profundo y explora tu creación!"
   ]
  },
  {
   "cell_type": "code",
   "execution_count": null,
   "metadata": {},
   "outputs": [],
   "source": [
    "covid_dashboard = interactive(\n",
    "    covid_chile_chart,\n",
    "    fecha=fecha_widget,\n",
    "    col=col_widget\n",
    ")\n",
    "covid_dashboard"
   ]
  },
  {
   "cell_type": "markdown",
   "metadata": {},
   "source": [
    "**Comentarios:** Del gráfico de población notamos la concentración de la población,  a medida que pasa el tiempo para los casos confirmado y fallecidos reflejan esa concentración, los casos activos presentan mayor variabilidad y la tasa, nos permite tener una mejor idea de la gravedad por región destacar la región de Magallanes"
   ]
  }
 ],
 "metadata": {
  "kernelspec": {
   "display_name": "Python 3",
   "language": "python",
   "name": "python3"
  },
  "language_info": {
   "codemirror_mode": {
    "name": "ipython",
    "version": 3
   },
   "file_extension": ".py",
   "mimetype": "text/x-python",
   "name": "python",
   "nbconvert_exporter": "python",
   "pygments_lexer": "ipython3",
   "version": "3.7.8"
  }
 },
 "nbformat": 4,
 "nbformat_minor": 4
}
